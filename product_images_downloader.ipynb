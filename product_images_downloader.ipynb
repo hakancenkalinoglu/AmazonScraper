{
 "cells": [
  {
   "cell_type": "code",
   "execution_count": 1,
   "id": "7ea828dc-a77e-48ea-9a5b-262afa0aa0bb",
   "metadata": {},
   "outputs": [
    {
     "name": "stdout",
     "output_type": "stream",
     "text": [
      "C:\\Users\\sarat\\miniconda3\\envs\\agg\\python.exe\n"
     ]
    }
   ],
   "source": [
    "from bs4 import BeautifulSoup\n",
    "from amazon_sel import Amazon\n",
    "import requests\n",
    "\n",
    "import sys\n",
    "print(sys.executable)   # just to check we are in correct env or not !!!"
   ]
  },
  {
   "cell_type": "code",
   "execution_count": 2,
   "id": "684d161f-f327-4265-a539-6c0e844975e9",
   "metadata": {},
   "outputs": [],
   "source": [
    "def extract_product_divs(html):\n",
    "    # these are different layouts of amazon product divs\n",
    "    different_web_ele_selectors = [\n",
    "        'div.sg-col-4-of-12.s-result-item.s-asin.sg-col-4-of-16.sg-col.sg-col-4-of-20',\n",
    "        'div.s-result-item.s-asin.sg-col-0-of-12.sg-col-16-of-20.sg-col.sg-col-12-of-16'\n",
    "    ]\n",
    "\n",
    "    for pattern in different_web_ele_selectors:\n",
    "        product_divs = html.select(pattern)\n",
    "\n",
    "        if len(product_divs) > 0:\n",
    "            break  # it means page is grid. No need to check for other alignment\n",
    "\n",
    "    return product_divs"
   ]
  },
  {
   "cell_type": "code",
   "execution_count": 3,
   "id": "605dfd0a-cacb-482b-a6d2-3b36247afcdf",
   "metadata": {},
   "outputs": [],
   "source": [
    "\n",
    "def extract_images(product_divs) :\n",
    "    \n",
    "    # just a wrapper to iterate each product and extract img-link\n",
    "    \n",
    "\n",
    "    for i in range(len(product_divs)) :   # for each product\n",
    "        uid = product_divs[i].get('data-asin')    # for any product, this unique id will be present...\n",
    "        try :\n",
    "\n",
    "            prod = product_divs[i]  \n",
    "            \n",
    "            img_link = prod.find('img').get('src')\n",
    "\n",
    "            download_img(img_link, uid)   # download img and saves the image\n",
    "\n",
    "        except :\n",
    "            print(uid)   # products for which image is failed to download\n",
    "            continue\n",
    "            \n",
    "    \n",
    "def download_img(img_url, uid) :\n",
    "    # it will store elements in the images folder. make sure it already exists !!!\n",
    "    img = requests.get(img_url).content\n",
    "    \n",
    "    with open(f'images/{uid}.jpg', 'wb') as f :\n",
    "        f.write(img)\n",
    "        \n",
    "\n",
    "    "
   ]
  },
  {
   "cell_type": "code",
   "execution_count": 4,
   "id": "d2a3fb97-8110-4472-8189-6c39a2513c82",
   "metadata": {},
   "outputs": [],
   "source": [
    "# we ask user to enter the product to be searched, and number of items or pages\n",
    "def input_details() : \n",
    "\n",
    "    print('\\nEnter the Details\\n')\n",
    "    item_name = input('Enter the name of product to be searched : ')\n",
    "\n",
    "    if not item_name :\n",
    "        # without product name, we cannot scrape anything...\n",
    "        return -1\n",
    "\n",
    "    num_items = input('Enter the number of products to be processed (default: 100)')\n",
    "    num_pages = input('Enter the number of pages to be traversed. (default: 10)')\n",
    "\n",
    "\n",
    "    if not num_items :\n",
    "        num_items = 100  # default\n",
    "        \n",
    "    else :\n",
    "        num_items = int(num_items)   # string to int\n",
    "\n",
    "    if not num_pages :\n",
    "        num_pages = 10  # default\n",
    "        \n",
    "    else :\n",
    "        num_pages = int(num_pages)\n",
    "\n",
    "    print('-'* 50)\n",
    "    print('Entered Details : \\n')\n",
    "    print(f'Item  :\\t {item_name}')\n",
    "    print(f'Number of items to be processed  :\\t {num_items}')\n",
    "    print(f'Number of pages to be processed  :\\t {num_pages}')\n",
    "    \n",
    "    print('-'* 50)\n",
    "    \n",
    "    \n",
    "    return item_name, num_items, num_pages\n"
   ]
  },
  {
   "cell_type": "markdown",
   "id": "8d1c6301-3d63-4d79-bf63-289f66e6451b",
   "metadata": {},
   "source": [
    "### Open Amazon and search for the product"
   ]
  },
  {
   "cell_type": "code",
   "execution_count": 12,
   "id": "eeb17afb-16aa-49fa-aaaf-c6290b6a288b",
   "metadata": {},
   "outputs": [
    {
     "name": "stdout",
     "output_type": "stream",
     "text": [
      "\n",
      "Enter the Details\n",
      "\n"
     ]
    },
    {
     "name": "stdout",
     "output_type": "stream",
     "text": [
      "Enter the name of product to be searched :  tomato\n",
      "Enter the number of products to be processed (default: 100) 200\n",
      "Enter the number of pages to be traversed. (default: 10) \n"
     ]
    },
    {
     "name": "stdout",
     "output_type": "stream",
     "text": [
      "--------------------------------------------------\n",
      "Entered Details : \n",
      "\n",
      "Item  :\t tomato\n",
      "Number of items to be processed  :\t 200\n",
      "Number of pages to be processed  :\t 10\n",
      "--------------------------------------------------\n",
      "==================================================\n",
      "\n",
      "Products extracted: 240\n",
      "Pages Traversed : 5\n",
      "\n",
      "==================================================\n",
      "============================== Final Details ====================\n",
      "\n",
      "Total Number of Products extracted: 240\n",
      "Tatal Pages Traversed : 5\n",
      "\n",
      "==================================================\n"
     ]
    }
   ],
   "source": [
    "def print_details(count, pages, completed=False) :\n",
    "    \n",
    "    if not completed :\n",
    "        if (count % 25 == 0) or (pages % 5 == 0) :\n",
    "\n",
    "            print('='* 50)\n",
    "            print(f'\\nProducts extracted: {count}\\nPages Traversed : {pages}\\n')\n",
    "            print('=' * 50)\n",
    "            \n",
    "    else :\n",
    "        # prints for the last time !!\n",
    "        print('='* 30+' Final Details '+ '='* 20)\n",
    "        print(f'\\nTotal Number of Products extracted: {count}\\nTatal Pages Traversed : {pages}\\n')\n",
    "        print('=' * 50)\n",
    "\n",
    "\n",
    "\n",
    "# take the input details\n",
    "# iterate till one of condition met !!\n",
    "\n",
    "details = input_details()\n",
    "\n",
    "if details == -1 :\n",
    "    sys.exit('Exiting Since product name is not entered !!')\n",
    "    \n",
    "item_name, num_prods, num_pages = details[0], details[1], details[2]\n",
    "\n",
    "\n",
    "ama_search = Amazon()  # instantiate amazon search class\n",
    "pg_src = ama_search.search_text(item_name)\n",
    "\n",
    "count_products = 0\n",
    "pages_traversed = 1   # already 1 page is opened !!!\n",
    "\n",
    "# break when required products count is reached or req of pages are traversed !!!\n",
    "\n",
    "while (count_products < num_prods) and (pages_traversed < num_pages ):  \n",
    "    \n",
    "    html = BeautifulSoup(pg_src, 'lxml')\n",
    "    product_divs = extract_product_divs(html)  # extract the actual product divs\n",
    "    \n",
    "    extract_images(product_divs)  # will download all the images of extracted products\n",
    "    \n",
    "    # Inc the prods count\n",
    "    count_products += len(product_divs)\n",
    "    \n",
    "    \n",
    "    pg_src = ama_search.next_page()   # open next page....\n",
    "    \n",
    "    \n",
    "    if pg_src == -1 :\n",
    "        print('Extraction Completed !!')\n",
    "        break\n",
    "    \n",
    "    pages_traversed += 1\n",
    "    \n",
    "    print_details(count_products, pages_traversed)   # helper func to print details\n",
    "    \n",
    "    \n",
    "print_details(count_products, pages_traversed, True)  # print all the details \n",
    "    \n",
    "    "
   ]
  },
  {
   "cell_type": "code",
   "execution_count": null,
   "id": "c3e3b0ce-5d7b-460d-b4e0-e1766054ccf9",
   "metadata": {},
   "outputs": [],
   "source": []
  }
 ],
 "metadata": {
  "kernelspec": {
   "display_name": "Python 3.8.10 64-bit",
   "language": "python",
   "name": "python3"
  },
  "language_info": {
   "codemirror_mode": {
    "name": "ipython",
    "version": 3
   },
   "file_extension": ".py",
   "mimetype": "text/x-python",
   "name": "python",
   "nbconvert_exporter": "python",
   "pygments_lexer": "ipython3",
   "version": "3.8.10"
  },
  "vscode": {
   "interpreter": {
    "hash": "916dbcbb3f70747c44a77c7bcd40155683ae19c65e1c03b4aa3499c5328201f1"
   }
  }
 },
 "nbformat": 4,
 "nbformat_minor": 5
}
